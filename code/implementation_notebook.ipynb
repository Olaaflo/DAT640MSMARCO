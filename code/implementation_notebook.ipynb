{
 "cells": [
  {
   "cell_type": "code",
   "execution_count": 1,
   "metadata": {},
   "outputs": [
    {
     "name": "stderr",
     "output_type": "stream",
     "text": [
      "g:\\Programming\\anaconda3\\envs\\if37\\lib\\site-packages\\tqdm\\auto.py:22: TqdmWarning: IProgress not found. Please update jupyter and ipywidgets. See https://ipywidgets.readthedocs.io/en/stable/user_install.html\n",
      "  from .autonotebook import tqdm as notebook_tqdm\n"
     ]
    }
   ],
   "source": [
    "from pathlib import Path\n",
    "from elasticsearch import Elasticsearch\n",
    "from functions import baseline_retrieval, one_by_one_index, bulk_index, get_queries, get_relevance_scores\n",
    "\n",
    "\n",
    "\n",
    "INDEX_NAME = \"msmarcopassages\"\n",
    "\n",
    "DATA_FILE = str(Path(\"../data/collection.tsv\"))\n",
    "\n",
    "# Query documents. Contains query id and query text \n",
    "QUERIES_TRAIN = str(Path(\"../data/queries.train.tsv\"))\n",
    "QUERIES_EVAL = str(Path(\"../data/queries.eval.tsv\"))\n",
    "QUERIES_DEV = str(Path(\"../data/queries.dev.tsv\"))\n",
    "QUERY_FILES = [QUERIES_DEV, QUERIES_TRAIN, QUERIES_EVAL]\n",
    "\n",
    "# Evaluation scores\n",
    "RELEVANCE_SCORES = str(Path(\"../data/2019qrels-pass.txt\"))\n",
    "\n",
    "# OUTPUT FILE NAMES (for use by trec_eval)\n",
    "ADVANCED_METHOD_RESULTS = \"advanced_method_results\"\n",
    "QRELS_BINARY = \"qrels_binary\"\n",
    "\n",
    "\n",
    "INDEX_SETTINGS = {\n",
    "    \"mappings\": {\n",
    "        \"properties\": {\n",
    "            \"body\": {\n",
    "                \"type\": \"text\",\n",
    "                \"term_vector\": \"with_positions\",\n",
    "                \"analyzer\": \"english\",\n",
    "            },\n",
    "        }\n",
    "    }\n",
    "}\n",
    "\n",
    "INDEX_NAME = \"msmarcopassages\""
   ]
  },
  {
   "cell_type": "code",
   "execution_count": 2,
   "metadata": {},
   "outputs": [
    {
     "data": {
      "text/plain": [
       "{'name': 'DESKTOP-M9B3O86',\n",
       " 'cluster_name': 'elasticsearch',\n",
       " 'cluster_uuid': '2v5YrawFSg6zh-XVReEnLw',\n",
       " 'version': {'number': '7.17.6',\n",
       "  'build_flavor': 'default',\n",
       "  'build_type': 'zip',\n",
       "  'build_hash': 'f65e9d338dc1d07b642e14a27f338990148ee5b6',\n",
       "  'build_date': '2022-08-23T11:08:48.893373482Z',\n",
       "  'build_snapshot': False,\n",
       "  'lucene_version': '8.11.1',\n",
       "  'minimum_wire_compatibility_version': '6.8.0',\n",
       "  'minimum_index_compatibility_version': '6.0.0-beta1'},\n",
       " 'tagline': 'You Know, for Search'}"
      ]
     },
     "execution_count": 2,
     "metadata": {},
     "output_type": "execute_result"
    }
   ],
   "source": [
    "es = Elasticsearch()    \n",
    "es.info()"
   ]
  },
  {
   "cell_type": "code",
   "execution_count": 3,
   "metadata": {},
   "outputs": [],
   "source": [
    "# Index some documents\n",
    "n = 100  # number of documents to index\n",
    "\n",
    "one_by_one_index(\n",
    "    es, data_file=DATA_FILE, index='obo', index_settings=INDEX_SETTINGS, cutoff=n\n",
    ")"
   ]
  },
  {
   "cell_type": "code",
   "execution_count": 4,
   "metadata": {},
   "outputs": [
    {
     "name": "stdout",
     "output_type": "stream",
     "text": [
      "Indexed 100000 passages\n",
      "Indexed 100001 passages\n"
     ]
    }
   ],
   "source": [
    "# Index some documents\n",
    "n = 100_000  # number of documents to index\n",
    "\n",
    "bulk_index(\n",
    "    es, data_file=DATA_FILE, index=INDEX_NAME, index_settings=INDEX_SETTINGS, cutoff=n, reindex_if_exist=True\n",
    ")"
   ]
  },
  {
   "cell_type": "code",
   "execution_count": 5,
   "metadata": {},
   "outputs": [],
   "source": [
    "queries = get_queries()\n",
    "rel_scores = get_relevance_scores()"
   ]
  },
  {
   "cell_type": "code",
   "execution_count": 8,
   "metadata": {},
   "outputs": [
    {
     "name": "stdout",
     "output_type": "stream",
     "text": [
      "527433|types of dysarthria from cerebral palsy\n"
     ]
    }
   ],
   "source": [
    "id_query = [id_and_query for id_and_query in queries.items()]\n",
    "\n",
    "query_id, query = id_query[910884]\n",
    "# query has / in it\n",
    "query = query.replace('/', '')\n",
    "\n",
    "print(query_id, query, sep='|')"
   ]
  },
  {
   "cell_type": "code",
   "execution_count": 9,
   "metadata": {},
   "outputs": [],
   "source": [
    "from transformers import AutoTokenizer, AutoModelForSequenceClassification\n",
    "import torch\n",
    "\n",
    "model = AutoModelForSequenceClassification.from_pretrained('cross-encoder/ms-marco-MiniLM-L-6-v2')\n",
    "tokenizer = AutoTokenizer.from_pretrained('cross-encoder/ms-marco-MiniLM-L-6-v2')\n"
   ]
  },
  {
   "cell_type": "code",
   "execution_count": 10,
   "metadata": {},
   "outputs": [
    {
     "name": "stdout",
     "output_type": "stream",
     "text": [
      "[]\n"
     ]
    },
    {
     "ename": "NameError",
     "evalue": "name 'advanced_method' is not defined",
     "output_type": "error",
     "traceback": [
      "\u001b[1;31m---------------------------------------------------------------------------\u001b[0m",
      "\u001b[1;31mNameError\u001b[0m                                 Traceback (most recent call last)",
      "\u001b[1;32m~\\AppData\\Local\\Temp\\ipykernel_8144\\2304426925.py\u001b[0m in \u001b[0;36m<module>\u001b[1;34m\u001b[0m\n\u001b[0;32m      2\u001b[0m \u001b[0mprint\u001b[0m\u001b[1;33m(\u001b[0m\u001b[0mbaseline\u001b[0m\u001b[1;33m)\u001b[0m\u001b[1;33m\u001b[0m\u001b[1;33m\u001b[0m\u001b[0m\n\u001b[0;32m      3\u001b[0m \u001b[1;33m\u001b[0m\u001b[0m\n\u001b[1;32m----> 4\u001b[1;33m \u001b[0madvanced_method\u001b[0m\u001b[1;33m(\u001b[0m\u001b[0mINDEX_NAME\u001b[0m\u001b[1;33m,\u001b[0m \u001b[0mbaseline\u001b[0m\u001b[1;33m,\u001b[0m \u001b[0mmodel\u001b[0m\u001b[1;33m,\u001b[0m \u001b[0mtokenizer\u001b[0m\u001b[1;33m)\u001b[0m\u001b[1;33m\u001b[0m\u001b[1;33m\u001b[0m\u001b[0m\n\u001b[0m",
      "\u001b[1;31mNameError\u001b[0m: name 'advanced_method' is not defined"
     ]
    }
   ],
   "source": [
    "baseline = baseline_retrieval(es, INDEX_NAME, query, 10)\n",
    "print(baseline)\n",
    "\n",
    "advanced_method(INDEX_NAME, baseline, model, tokenizer)"
   ]
  },
  {
   "cell_type": "code",
   "execution_count": null,
   "metadata": {},
   "outputs": [],
   "source": [
    "from typing import List\n",
    "\n",
    "\n",
    "def advanced_method(index_name: str, baseline: List[str], model, tokenizer):\n",
    "    docs = [es.get(index=index_name, id=_id)['_source']['body'] for _id in baseline]\n",
    "\n",
    "    features = tokenizer([query] * len(baseline), docs,  padding=True, truncation=True, return_tensors=\"pt\")\n",
    "\n",
    "    model.eval()\n",
    "    with torch.no_grad():\n",
    "        scores = model(**features).logits\n",
    "        sorted_indexes = list(reversed(np.argsort(list(scores))))\n",
    "    \n",
    "    return [baseline[i] for i in sorted_indexes]\n",
    "\n"
   ]
  },
  {
   "cell_type": "code",
   "execution_count": null,
   "metadata": {},
   "outputs": [],
   "source": [
    "import numpy as np\n",
    "\n",
    "docs = [es.get(index=INDEX_NAME, id=_id)['_source']['body'] for _id in baseline]\n",
    "docs\n",
    "\n",
    "features = tokenizer([query] * len(baseline), docs,  padding=True, truncation=True, return_tensors=\"pt\")\n",
    "\n",
    "model.eval()\n",
    "with torch.no_grad():\n",
    "    scores = model(**features).logits\n",
    "    print(list(reversed(np.argsort(list(scores)))))\n",
    "\n",
    "print(scores)"
   ]
  },
  {
   "cell_type": "code",
   "execution_count": null,
   "metadata": {},
   "outputs": [],
   "source": [
    "reranking = advanced_method(es)"
   ]
  }
 ],
 "metadata": {
  "kernelspec": {
   "display_name": "Python 3.7.13 ('if37')",
   "language": "python",
   "name": "python3"
  },
  "language_info": {
   "codemirror_mode": {
    "name": "ipython",
    "version": 3
   },
   "file_extension": ".py",
   "mimetype": "text/x-python",
   "name": "python",
   "nbconvert_exporter": "python",
   "pygments_lexer": "ipython3",
   "version": "3.7.13"
  },
  "orig_nbformat": 4,
  "vscode": {
   "interpreter": {
    "hash": "80dac34efe7ac061679816ead8bbb7dda9b26c4c385cb02ee51b5824af556652"
   }
  }
 },
 "nbformat": 4,
 "nbformat_minor": 2
}
