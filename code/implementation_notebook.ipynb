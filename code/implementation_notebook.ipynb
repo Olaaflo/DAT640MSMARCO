{
 "cells": [
  {
   "cell_type": "code",
   "execution_count": 4,
   "metadata": {},
   "outputs": [],
   "source": [
    "from elasticsearch import Elasticsearch\n",
    "from retrievals import baseline_retrieval \n",
    "from baseline_retrieval import bulk_index, get_queries, get_relevance_scores\n",
    "\n",
    "DATA_FILE = \"../data/collection.tsv\"\n",
    "\n",
    "# Query documents. Contains query id and query text apears\n",
    "QUERIES_TRAIN = \"../data/queries.train.tsv\"\n",
    "QUERIES_EVAL = \"../data/queries.eval.tsv\"\n",
    "QUERIES_DEV = \"../data/queries.dev.tsv\"\n",
    "QUERY_FILES = [QUERIES_DEV, QUERIES_TRAIN, QUERIES_EVAL]\n",
    "\n",
    "INDEX_SETTINGS = {\n",
    "    \"mappings\": {\n",
    "        \"properties\": {\n",
    "            \"body\": {\n",
    "                \"type\": \"text\",\n",
    "                \"term_vector\": \"with_positions\",\n",
    "                \"analyzer\": \"english\",\n",
    "            },\n",
    "        }\n",
    "    }\n",
    "}\n",
    "\n",
    "# Evaluation scores\n",
    "RELEVANCE_SCORES = \"../data/2019qrels-pass.txt\"\n",
    "\n",
    "INDEX_NAME = \"dev_index\""
   ]
  },
  {
   "cell_type": "code",
   "execution_count": 5,
   "metadata": {},
   "outputs": [
    {
     "name": "stderr",
     "output_type": "stream",
     "text": [
      "/Users/moe/opt/anaconda3/envs/if37/lib/python3.7/site-packages/elasticsearch/connection/base.py:200: ElasticsearchWarning: Elasticsearch built-in security features are not enabled. Without authentication, your cluster could be accessible to anyone. See https://www.elastic.co/guide/en/elasticsearch/reference/7.17/security-minimal-setup.html to enable security.\n",
      "  warnings.warn(message, category=ElasticsearchWarning)\n"
     ]
    }
   ],
   "source": [
    "# Index some documents\n",
    "n = 100  # number of documents to index\n",
    "es = Elasticsearch()    \n",
    "es.info()\n",
    "\n",
    "bulk_index(\n",
    "    es, data_file=DATA_FILE, index=INDEX_NAME, index_settings=INDEX_SETTINGS, cutoff=n\n",
    ")"
   ]
  },
  {
   "cell_type": "code",
   "execution_count": 6,
   "metadata": {},
   "outputs": [],
   "source": [
    "queries = get_queries()\n",
    "rel_scores = get_relevance_scores()"
   ]
  },
  {
   "cell_type": "code",
   "execution_count": 7,
   "metadata": {},
   "outputs": [
    {
     "name": "stdout",
     "output_type": "stream",
     "text": [
      "527433|types of dysarthria from cerebral palsy\n"
     ]
    }
   ],
   "source": [
    "id_query = [id_and_query for id_and_query in queries.items()]\n",
    "\n",
    "query_id, query = id_query[910884]\n",
    "# query has / in it\n",
    "query = query.replace('/', '')\n",
    "\n",
    "print(query_id, query, sep='|')"
   ]
  },
  {
   "cell_type": "code",
   "execution_count": 8,
   "metadata": {},
   "outputs": [],
   "source": [
    "from transformers import AutoTokenizer, AutoModelForSequenceClassification\n",
    "import torch\n",
    "\n",
    "model = AutoModelForSequenceClassification.from_pretrained('cross-encoder/ms-marco-MiniLM-L-6-v2')\n",
    "tokenizer = AutoTokenizer.from_pretrained('cross-encoder/ms-marco-MiniLM-L-6-v2')\n"
   ]
  },
  {
   "cell_type": "code",
   "execution_count": 33,
   "metadata": {},
   "outputs": [
    {
     "name": "stderr",
     "output_type": "stream",
     "text": [
      "/Users/moe/opt/anaconda3/envs/if37/lib/python3.7/site-packages/elasticsearch/connection/base.py:200: ElasticsearchWarning: Elasticsearch built-in security features are not enabled. Without authentication, your cluster could be accessible to anyone. See https://www.elastic.co/guide/en/elasticsearch/reference/7.17/security-minimal-setup.html to enable security.\n",
      "  warnings.warn(message, category=ElasticsearchWarning)\n"
     ]
    },
    {
     "name": "stdout",
     "output_type": "stream",
     "text": [
      "['15', '59', '27', '20', '48', '23', '9', '26', '87', '80']\n"
     ]
    },
    {
     "name": "stderr",
     "output_type": "stream",
     "text": [
      "/Users/moe/opt/anaconda3/envs/if37/lib/python3.7/site-packages/numpy/core/fromnumeric.py:43: FutureWarning: The input object of type 'Tensor' is an array-like implementing one of the corresponding protocols (`__array__`, `__array_interface__` or `__array_struct__`); but not a sequence (or 0-D). In the future, this object will be coerced as if it was first converted using `np.array(obj)`. To retain the old behaviour, you have to either modify the type 'Tensor', or assign to an empty array created with `np.empty(correct_shape, dtype=object)`.\n",
      "  result = getattr(asarray(obj), method)(*args, **kwds)\n",
      "/Users/moe/opt/anaconda3/envs/if37/lib/python3.7/site-packages/numpy/core/fromnumeric.py:43: VisibleDeprecationWarning: Creating an ndarray from ragged nested sequences (which is a list-or-tuple of lists-or-tuples-or ndarrays with different lengths or shapes) is deprecated. If you meant to do this, you must specify 'dtype=object' when creating the ndarray.\n",
      "  result = getattr(asarray(obj), method)(*args, **kwds)\n"
     ]
    },
    {
     "data": {
      "text/plain": [
       "['23', '59', '20', '26', '87', '48', '27', '9', '80', '15']"
      ]
     },
     "execution_count": 33,
     "metadata": {},
     "output_type": "execute_result"
    }
   ],
   "source": [
    "baseline = baseline_retrieval(es, INDEX_NAME, query, 10)\n",
    "print(baseline)\n",
    "\n",
    "advanced_method(INDEX_NAME, baseline, model, tokenizer)"
   ]
  },
  {
   "cell_type": "code",
   "execution_count": 32,
   "metadata": {},
   "outputs": [],
   "source": [
    "from typing import List\n",
    "\n",
    "\n",
    "def advanced_method(index_name: str, baseline: List[str], model, tokenizer):\n",
    "    docs = [es.get(index=index_name, id=_id)['_source']['body'] for _id in baseline]\n",
    "\n",
    "    features = tokenizer([query] * len(baseline), docs,  padding=True, truncation=True, return_tensors=\"pt\")\n",
    "\n",
    "    model.eval()\n",
    "    with torch.no_grad():\n",
    "        scores = model(**features).logits\n",
    "        sorted_indexes = list(reversed(np.argsort(list(scores))))\n",
    "    \n",
    "    return [baseline[i] for i in sorted_indexes]\n",
    "\n"
   ]
  },
  {
   "cell_type": "code",
   "execution_count": 24,
   "metadata": {},
   "outputs": [
    {
     "name": "stderr",
     "output_type": "stream",
     "text": [
      "/Users/moe/opt/anaconda3/envs/if37/lib/python3.7/site-packages/elasticsearch/connection/base.py:200: ElasticsearchWarning: Elasticsearch built-in security features are not enabled. Without authentication, your cluster could be accessible to anyone. See https://www.elastic.co/guide/en/elasticsearch/reference/7.17/security-minimal-setup.html to enable security.\n",
      "  warnings.warn(message, category=ElasticsearchWarning)\n"
     ]
    },
    {
     "name": "stdout",
     "output_type": "stream",
     "text": [
      "[5, 1, 3, 7, 8, 4, 2, 6, 9, 0]\n",
      "tensor([[-11.3357],\n",
      "        [-11.2387],\n",
      "        [-11.3024],\n",
      "        [-11.2458],\n",
      "        [-11.2975],\n",
      "        [-11.2146],\n",
      "        [-11.3053],\n",
      "        [-11.2489],\n",
      "        [-11.2668],\n",
      "        [-11.3131]])\n"
     ]
    },
    {
     "name": "stderr",
     "output_type": "stream",
     "text": [
      "/Users/moe/opt/anaconda3/envs/if37/lib/python3.7/site-packages/numpy/core/fromnumeric.py:43: FutureWarning: The input object of type 'Tensor' is an array-like implementing one of the corresponding protocols (`__array__`, `__array_interface__` or `__array_struct__`); but not a sequence (or 0-D). In the future, this object will be coerced as if it was first converted using `np.array(obj)`. To retain the old behaviour, you have to either modify the type 'Tensor', or assign to an empty array created with `np.empty(correct_shape, dtype=object)`.\n",
      "  result = getattr(asarray(obj), method)(*args, **kwds)\n",
      "/Users/moe/opt/anaconda3/envs/if37/lib/python3.7/site-packages/numpy/core/fromnumeric.py:43: VisibleDeprecationWarning: Creating an ndarray from ragged nested sequences (which is a list-or-tuple of lists-or-tuples-or ndarrays with different lengths or shapes) is deprecated. If you meant to do this, you must specify 'dtype=object' when creating the ndarray.\n",
      "  result = getattr(asarray(obj), method)(*args, **kwds)\n"
     ]
    }
   ],
   "source": [
    "import numpy as np\n",
    "\n",
    "docs = [es.get(index=INDEX_NAME, id=_id)['_source']['body'] for _id in baseline]\n",
    "docs\n",
    "\n",
    "features = tokenizer([query] * len(baseline), docs,  padding=True, truncation=True, return_tensors=\"pt\")\n",
    "\n",
    "model.eval()\n",
    "with torch.no_grad():\n",
    "    scores = model(**features).logits\n",
    "    print(list(reversed(np.argsort(list(scores)))))\n",
    "\n",
    "print(scores)"
   ]
  },
  {
   "cell_type": "code",
   "execution_count": 11,
   "metadata": {},
   "outputs": [
    {
     "ename": "TypeError",
     "evalue": "advanced_method() takes 0 positional arguments but 1 was given",
     "output_type": "error",
     "traceback": [
      "\u001b[0;31m---------------------------------------------------------------------------\u001b[0m",
      "\u001b[0;31mTypeError\u001b[0m                                 Traceback (most recent call last)",
      "\u001b[0;32m/var/folders/gv/km1q26vd1s502tjkj34464h00000gn/T/ipykernel_9357/1744697764.py\u001b[0m in \u001b[0;36m<module>\u001b[0;34m\u001b[0m\n\u001b[0;32m----> 1\u001b[0;31m \u001b[0mreranking\u001b[0m \u001b[0;34m=\u001b[0m \u001b[0madvanced_method\u001b[0m\u001b[0;34m(\u001b[0m\u001b[0mes\u001b[0m\u001b[0;34m)\u001b[0m\u001b[0;34m\u001b[0m\u001b[0;34m\u001b[0m\u001b[0m\n\u001b[0m",
      "\u001b[0;31mTypeError\u001b[0m: advanced_method() takes 0 positional arguments but 1 was given"
     ]
    }
   ],
   "source": [
    "reranking = advanced_method(es)"
   ]
  }
 ],
 "metadata": {
  "kernelspec": {
   "display_name": "Python 3.7.13 ('if37')",
   "language": "python",
   "name": "python3"
  },
  "language_info": {
   "codemirror_mode": {
    "name": "ipython",
    "version": 3
   },
   "file_extension": ".py",
   "mimetype": "text/x-python",
   "name": "python",
   "nbconvert_exporter": "python",
   "pygments_lexer": "ipython3",
   "version": "3.7.13"
  },
  "orig_nbformat": 4,
  "vscode": {
   "interpreter": {
    "hash": "b41dd4222a953aa5dc10f1dd2ed73e132e0bf9e982f9560d60de4472d106d4b3"
   }
  }
 },
 "nbformat": 4,
 "nbformat_minor": 2
}
