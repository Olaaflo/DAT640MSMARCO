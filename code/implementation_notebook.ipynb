{
 "cells": [
  {
   "cell_type": "code",
   "execution_count": 39,
   "metadata": {},
   "outputs": [],
   "source": [
    "from elasticsearch import Elasticsearch\n",
    "from retrievals import baseline_retrieval, advanced_method\n",
    "from baseline_retrieval import bulk_index, get_queries, get_relevance_scores\n",
    "\n",
    "DATA_FILE = \"../data/collection.tsv\"\n",
    "\n",
    "# Query documents. Contains query id and query text apears\n",
    "QUERIES_TRAIN = \"../data/queries.train.tsv\"\n",
    "QUERIES_EVAL = \"../data/queries.eval.tsv\"\n",
    "QUERIES_DEV = \"../data/queries.dev.tsv\"\n",
    "QUERY_FILES = [QUERIES_DEV, QUERIES_TRAIN, QUERIES_EVAL]\n",
    "\n",
    "INDEX_SETTINGS = {\n",
    "    \"mappings\": {\n",
    "        \"properties\": {\n",
    "            \"body\": {\n",
    "                \"type\": \"text\",\n",
    "                \"term_vector\": \"with_positions\",\n",
    "                \"analyzer\": \"english\",\n",
    "            },\n",
    "        }\n",
    "    }\n",
    "}\n",
    "\n",
    "# Evaluation scores\n",
    "RELEVANCE_SCORES = \"../data/2019qrels-pass.txt\"\n",
    "\n",
    "INDEX_NAME = \"dev_index\""
   ]
  },
  {
   "cell_type": "code",
   "execution_count": 40,
   "metadata": {},
   "outputs": [],
   "source": [
    "# Index some documents\n",
    "n = 100  # number of documents to index\n",
    "es = Elasticsearch()    \n",
    "es.info()\n",
    "\n",
    "bulk_index(\n",
    "    es, data_file=DATA_FILE, index=INDEX_NAME, index_settings=INDEX_SETTINGS, cutoff=n\n",
    ")"
   ]
  },
  {
   "cell_type": "code",
   "execution_count": 41,
   "metadata": {},
   "outputs": [],
   "source": [
    "queries = get_queries()\n",
    "rel_scores = get_relevance_scores()"
   ]
  },
  {
   "cell_type": "code",
   "execution_count": 42,
   "metadata": {},
   "outputs": [
    {
     "name": "stdout",
     "output_type": "stream",
     "text": [
      "527433|types of dysarthria from cerebral palsy\n"
     ]
    }
   ],
   "source": [
    "id_query = [id_and_query for id_and_query in queries.items()]\n",
    "\n",
    "query_id, query = id_query[910884]\n",
    "# query has / in it\n",
    "query = query.replace('/', '')\n",
    "\n",
    "print(query_id, query, sep='|')"
   ]
  },
  {
   "cell_type": "code",
   "execution_count": 43,
   "metadata": {},
   "outputs": [
    {
     "name": "stdout",
     "output_type": "stream",
     "text": [
      "['15', '59', '27', '20', '48', '23', '9', '26', '87', '80']\n"
     ]
    }
   ],
   "source": [
    "baseline = baseline_retrieval(es, INDEX_NAME, query, 10)\n",
    "print(baseline)"
   ]
  },
  {
   "cell_type": "code",
   "execution_count": 44,
   "metadata": {},
   "outputs": [
    {
     "ename": "TypeError",
     "evalue": "advanced_method() takes 0 positional arguments but 1 was given",
     "output_type": "error",
     "traceback": [
      "\u001b[1;31m---------------------------------------------------------------------------\u001b[0m",
      "\u001b[1;31mTypeError\u001b[0m                                 Traceback (most recent call last)",
      "\u001b[1;32m~\\AppData\\Local\\Temp\\ipykernel_8168\\1744697764.py\u001b[0m in \u001b[0;36m<module>\u001b[1;34m\u001b[0m\n\u001b[1;32m----> 1\u001b[1;33m \u001b[0mreranking\u001b[0m \u001b[1;33m=\u001b[0m \u001b[0madvanced_method\u001b[0m\u001b[1;33m(\u001b[0m\u001b[0mes\u001b[0m\u001b[1;33m)\u001b[0m\u001b[1;33m\u001b[0m\u001b[1;33m\u001b[0m\u001b[0m\n\u001b[0m",
      "\u001b[1;31mTypeError\u001b[0m: advanced_method() takes 0 positional arguments but 1 was given"
     ]
    }
   ],
   "source": [
    "reranking = advanced_method(es)"
   ]
  }
 ],
 "metadata": {
  "kernelspec": {
   "display_name": "Python 3.7.13 ('if37')",
   "language": "python",
   "name": "python3"
  },
  "language_info": {
   "codemirror_mode": {
    "name": "ipython",
    "version": 3
   },
   "file_extension": ".py",
   "mimetype": "text/x-python",
   "name": "python",
   "nbconvert_exporter": "python",
   "pygments_lexer": "ipython3",
   "version": "3.7.13"
  },
  "orig_nbformat": 4,
  "vscode": {
   "interpreter": {
    "hash": "80dac34efe7ac061679816ead8bbb7dda9b26c4c385cb02ee51b5824af556652"
   }
  }
 },
 "nbformat": 4,
 "nbformat_minor": 2
}
