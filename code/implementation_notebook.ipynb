{
 "cells": [
  {
   "cell_type": "code",
   "execution_count": 3,
   "metadata": {},
   "outputs": [],
   "source": [
    "from retrievals import baseline_retrieval, advanced_method\n",
    "\n",
    "DATA_FILE = \"../data/collection.tsv\"\n",
    "\n",
    "# Query documents. Contains query id and query text apears\n",
    "QUERIES_TRAIN = \"../data/queries.train.tsv\"\n",
    "QUERIES_EVAL = \"../data/queries.eval.tsv\"\n",
    "QUERIES_DEV = \"../data/queries.dev.tsv\"\n",
    "QUERY_FILES = [QUERIES_DEV, QUERIES_TRAIN, QUERIES_EVAL]\n",
    "\n",
    "# Evaluation scores\n",
    "RELEVANCE_SCORES = \"../data/2019qrels-pass.txt\"\n",
    "\n",
    "INDEX_NAME = \"devIndex\""
   ]
  },
  {
   "cell_type": "code",
   "execution_count": null,
   "metadata": {},
   "outputs": [],
   "source": [
    "# Index some documents\n"
   ]
  }
 ],
 "metadata": {
  "kernelspec": {
   "display_name": "Python 3.7.13 ('if37')",
   "language": "python",
   "name": "python3"
  },
  "language_info": {
   "codemirror_mode": {
    "name": "ipython",
    "version": 3
   },
   "file_extension": ".py",
   "mimetype": "text/x-python",
   "name": "python",
   "nbconvert_exporter": "python",
   "pygments_lexer": "ipython3",
   "version": "3.7.13"
  },
  "orig_nbformat": 4,
  "vscode": {
   "interpreter": {
    "hash": "80dac34efe7ac061679816ead8bbb7dda9b26c4c385cb02ee51b5824af556652"
   }
  }
 },
 "nbformat": 4,
 "nbformat_minor": 2
}
